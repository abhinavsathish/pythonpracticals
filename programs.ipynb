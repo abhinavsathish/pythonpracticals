{
 "cells": [
  {
   "cell_type": "markdown",
   "metadata": {},
   "source": [
    "# Python Programs"
   ]
  },
  {
   "cell_type": "code",
   "execution_count": 5,
   "metadata": {},
   "outputs": [
    {
     "name": "stdout",
     "output_type": "stream",
     "text": [
      "Enter the base of the triangle: 5\n",
      "Enter the height of the triangle: 2\n",
      "Area of the triangle is: 5.0\n"
     ]
    }
   ],
   "source": [
    "# To calculate Area of a triangle with Base and Height\n",
    "base = float(input(\"Enter the base of the triangle: \"))\n",
    "height = float(input(\"Enter the height of the triangle: \"))\n",
    "area_triangle = 0.5 * base * height\n",
    "print(\"Area of the triangle is:\", area_triangle)\n"
   ]
  },
  {
   "cell_type": "code",
   "execution_count": 6,
   "metadata": {},
   "outputs": [
    {
     "name": "stdout",
     "output_type": "stream",
     "text": [
      "Enter marks of subject 1: 23\n",
      "Enter marks of subject 2: 34\n",
      "Enter marks of subject 3: 44\n",
      "Average marks of 3 subjects is: 33.666666666666664\n"
     ]
    }
   ],
   "source": [
    "# To calculate the average marks of 3 subjects\n",
    "mark1 = float(input(\"Enter marks of subject 1: \"))\n",
    "mark2 = float(input(\"Enter marks of subject 2: \"))\n",
    "mark3 = float(input(\"Enter marks of subject 3: \"))\n",
    "average_marks = (mark1 + mark2 + mark3) / 3\n",
    "print(\"Average marks of 3 subjects is:\", average_marks)\n"
   ]
  },
  {
   "cell_type": "code",
   "execution_count": 7,
   "metadata": {},
   "outputs": [
    {
     "name": "stdout",
     "output_type": "stream",
     "text": [
      "Enter the original price: 1000\n",
      "Enter the discount percentage: 10\n",
      "Discounted amount is: 900.0\n"
     ]
    }
   ],
   "source": [
    "# To calculate discounted amount with discount %\n",
    "original_price = float(input(\"Enter the original price: \"))\n",
    "discount_percentage = float(input(\"Enter the discount percentage: \"))\n",
    "discount = (original_price * discount_percentage) / 100\n",
    "discounted_price = original_price - discount\n",
    "print(\"Discounted amount is:\", discounted_price)"
   ]
  },
  {
   "cell_type": "code",
   "execution_count": 8,
   "metadata": {},
   "outputs": [
    {
     "name": "stdout",
     "output_type": "stream",
     "text": [
      "Enter the length of the cuboid: 2\n",
      "Enter the width of the cuboid: 3\n",
      "Enter the height of the cuboid: 4\n",
      "Surface Area of the cuboid is: 52.0\n",
      "Volume of the cuboid is: 24.0\n"
     ]
    }
   ],
   "source": [
    "# To calculate Surface Area and Volume of a Cuboid\n",
    "length = float(input(\"Enter the length of the cuboid: \"))\n",
    "width = float(input(\"Enter the width of the cuboid: \"))\n",
    "height = float(input(\"Enter the height of the cuboid: \"))\n",
    "surface_area = 2 * (length * width + width * height + height * length)\n",
    "volume = length * width * height\n",
    "print(\"Surface Area of the cuboid is:\", surface_area)\n",
    "print(\"Volume of the cuboid is:\", volume)\n"
   ]
  },
  {
   "cell_type": "code",
   "execution_count": 9,
   "metadata": {
    "scrolled": true
   },
   "outputs": [
    {
     "name": "stdout",
     "output_type": "stream",
     "text": [
      "Enter temperature in Celsius: 32\n",
      "Temperature in Fahrenheit is: 89.6\n"
     ]
    }
   ],
   "source": [
    "# To convert Celsius to Fahrenheit\n",
    "celsius = float(input(\"Enter temperature in Celsius: \"))\n",
    "fahrenheit = (celsius * 9/5) + 32\n",
    "print(\"Temperature in Fahrenheit is:\", fahrenheit)"
   ]
  },
  {
   "cell_type": "code",
   "execution_count": 10,
   "metadata": {},
   "outputs": [
    {
     "name": "stdout",
     "output_type": "stream",
     "text": [
      "Enter the principal amount: 5000\n",
      "Enter the rate of interest: 2\n",
      "Enter the time in years: 2\n",
      "Compound Interest is: 201.99999999999994\n"
     ]
    }
   ],
   "source": [
    "# To calculate Compound Interest\n",
    "principal = float(input(\"Enter the principal amount: \"))\n",
    "rate = float(input(\"Enter the rate of interest: \"))\n",
    "time = float(input(\"Enter the time in years: \"))\n",
    "compound_interest = principal * ((1 + (rate / 100)) ** time - 1)\n",
    "print(\"Compound Interest is:\", compound_interest)"
   ]
  },
  {
   "cell_type": "code",
   "execution_count": 11,
   "metadata": {},
   "outputs": [
    {
     "name": "stdout",
     "output_type": "stream",
     "text": [
      "Enter a number: 50\n",
      "Enter a number: 60\n",
      "After Swapping:  \n",
      "First Number:  60.0 \n",
      "Second Number:  50.0\n"
     ]
    }
   ],
   "source": [
    "#Write a program to swap two numbers and print it. \n",
    "num1=float(input(\"Enter a number: \"))\n",
    "num2=float(input(\"Enter a number: \"))\n",
    "num1,num2=num2,num1\n",
    "print(\"After Swapping: \", \"\\nFirst Number: \",num1, \"\\nSecond Number: \",num2)"
   ]
  },
  {
   "cell_type": "markdown",
   "metadata": {},
   "source": [
    "# Lists"
   ]
  },
  {
   "cell_type": "code",
   "execution_count": 12,
   "metadata": {},
   "outputs": [
    {
     "name": "stdout",
     "output_type": "stream",
     "text": [
      "Length of the list: 11\n",
      "List after adding 11: [1, 2, 3, 4, 5, 6, 7, 8, 8, 9, 10, 11]\n",
      "List after removing 2 using remove: [1, 3, 4, 5, 6, 7, 8, 8, 9, 10, 11]\n",
      "Removed element: 3\n",
      "List after removing 3 using pop: [1, 4, 5, 6, 7, 8, 8, 9, 10, 11]\n",
      "List after adding 5 at position 8: [1, 4, 5, 6, 7, 8, 8, 9, 5, 10, 11]\n",
      "New copied list: [1, 4, 5, 6, 7, 8, 8, 9, 5, 10, 11]\n",
      "List after extending with new list: [1, 4, 5, 6, 7, 8, 8, 9, 5, 10, 11, 1, 4, 5, 6, 7, 8, 8, 9, 5, 10, 11]\n",
      "New list after clearing: []\n",
      "Count of element 8: 4\n",
      "Index position of element 5: 2\n",
      "List after sorting in descending order: [11, 11, 10, 10, 9, 9, 8, 8, 8, 8, 7, 7, 6, 6, 5, 5, 5, 5, 4, 4, 1, 1]\n",
      "List after reversing: [1, 1, 4, 4, 5, 5, 5, 5, 6, 6, 7, 7, 8, 8, 8, 8, 9, 9, 10, 10, 11, 11]\n"
     ]
    }
   ],
   "source": [
    "'''\n",
    "Create this list: [1,2,3,4,5,6,7,8,8,9,10] and Perform following tasks on the list:  \n",
    "Find the length of the list  \n",
    "Add element 11 at the end of list.  \n",
    "Remove element 2 and 3 using both remove and pop.  \n",
    "Add element 5 at position 8.  \n",
    "Copy the list to a new list.  \n",
    "Add the new list to original list using extend.  \n",
    "Clear the new list  \n",
    "Find the count of element 8  \n",
    "Find at what index position element 5 is.  \n",
    "Sort the list in descending order.  \n",
    "Reverse the original list. \n",
    "'''\n",
    "# Create the initial list\n",
    "original_list = [1, 2, 3, 4, 5, 6, 7, 8, 8, 9, 10]\n",
    "\n",
    "# Find the length of the list\n",
    "length_of_list = len(original_list)\n",
    "print(\"Length of the list:\", length_of_list)\n",
    "\n",
    "# Add element 11 at the end of the list\n",
    "original_list.append(11)\n",
    "print(\"List after adding 11:\", original_list)\n",
    "\n",
    "# Remove element 2 using remove\n",
    "original_list.remove(2)\n",
    "print(\"List after removing 2 using remove:\", original_list)\n",
    "\n",
    "# Remove element 3 using pop\n",
    "popped_element = original_list.pop(original_list.index(3))\n",
    "print(\"Removed element:\", popped_element)\n",
    "print(\"List after removing 3 using pop:\", original_list)\n",
    "\n",
    "# Add element 5 at position 8\n",
    "original_list.insert(8, 5)\n",
    "print(\"List after adding 5 at position 8:\", original_list)\n",
    "\n",
    "# Copy the list to a new list\n",
    "new_list = original_list.copy()\n",
    "print(\"New copied list:\", new_list)\n",
    "\n",
    "# Add the new list to the original list using extend\n",
    "original_list.extend(new_list)\n",
    "print(\"List after extending with new list:\", original_list)\n",
    "\n",
    "# Clear the new list\n",
    "new_list.clear()\n",
    "print(\"New list after clearing:\", new_list)\n",
    "\n",
    "# Find the count of element 8\n",
    "count_of_8 = original_list.count(8)\n",
    "print(\"Count of element 8:\", count_of_8)\n",
    "\n",
    "# Find the index position of element 5\n",
    "index_of_5 = original_list.index(5)\n",
    "print(\"Index position of element 5:\", index_of_5)\n",
    "\n",
    "# Sort the list in descending order\n",
    "original_list.sort(reverse=True)\n",
    "print(\"List after sorting in descending order:\", original_list)\n",
    "\n",
    "# Reverse the original list\n",
    "original_list.reverse()\n",
    "print(\"List after reversing:\", original_list)"
   ]
  },
  {
   "cell_type": "code",
   "execution_count": 13,
   "metadata": {},
   "outputs": [
    {
     "name": "stdout",
     "output_type": "stream",
     "text": [
      "Initial list of children: ['Arjun', 'Sonakshi', 'Vikram', 'Sandhya', 'Sonal', 'Isha', 'Kartik']\n",
      "List after removing 'Vikram': ['Arjun', 'Sonakshi', 'Sandhya', 'Sonal', 'Isha', 'Kartik']\n",
      "List after adding 'Jay': ['Arjun', 'Sonakshi', 'Sandhya', 'Sonal', 'Isha', 'Kartik', 'Jay']\n",
      "List after removing the second item: ['Arjun', 'Sandhya', 'Sonal', 'Isha', 'Kartik', 'Jay']\n"
     ]
    }
   ],
   "source": [
    "# Create a list in Python of children selected for science quiz with following names-\n",
    "# Arjun, Sonakshi, Vikram, Sandhya, Sonal, Isha, Kartik\n",
    "# Perform the following tasks on the list in sequence-\n",
    "# Print the whole list\n",
    "# Delete the name “Vikram” from the list\n",
    "# Add the name “Jay” at the end\n",
    "# Remove the item which is at the second position.\n",
    "children = [\"Arjun\", \"Sonakshi\", \"Vikram\", \"Sandhya\", \"Sonal\", \"Isha\", \"Kartik\"]\n",
    "\n",
    "print(\"Initial list of children:\", children)\n",
    "children.remove(\"Vikram\")\n",
    "print(\"List after removing 'Vikram':\", children)\n",
    "children.append(\"Jay\")\n",
    "print(\"List after adding 'Jay':\", children)\n",
    "children.pop(1)\n",
    "print(\"List after removing the second item:\", children)\n"
   ]
  },
  {
   "cell_type": "code",
   "execution_count": 14,
   "metadata": {},
   "outputs": [
    {
     "name": "stdout",
     "output_type": "stream",
     "text": [
      "Length of the list 'num': 6\n",
      "Elements from second to fourth position: [12, 5, 9]\n",
      "Elements from third to fifth position (using negative indexing): [5, 9, 65]\n"
     ]
    }
   ],
   "source": [
    "'''\n",
    "Create a list num=[23,12,5,9,65,44]\n",
    "○ print the length of the list\n",
    "○ print the elements from second to fourth position using positive indexing\n",
    "○ print the elements from position third to fifth using negative indexing\n",
    "'''\n",
    "num = [23, 12, 5, 9, 65, 44]\n",
    "print(\"Length of the list 'num':\", len(num))\n",
    "print(\"Elements from second to fourth position:\", num[1:4])\n",
    "print(\"Elements from third to fifth position (using negative indexing):\", num[-4:-1])"
   ]
  },
  {
   "cell_type": "code",
   "execution_count": 15,
   "metadata": {},
   "outputs": [
    {
     "name": "stdout",
     "output_type": "stream",
     "text": [
      "Sorted List_1 after extension: [10, 12, 14, 15, 20, 30, 40]\n"
     ]
    }
   ],
   "source": [
    "'''\n",
    "Create a list List_1=[10,20,30,40]. Add the elements [14,15,12] using extend\n",
    "function. Now sort the final list in ascending order and print it.\n",
    "'''\n",
    "List_1 = [10, 20, 30, 40]\n",
    "List_1.extend([14, 15, 12])\n",
    "List_1.sort()\n",
    "print(\"Sorted List_1 after extension:\", List_1)"
   ]
  },
  {
   "cell_type": "markdown",
   "metadata": {},
   "source": [
    "# Conditional Statements"
   ]
  },
  {
   "cell_type": "code",
   "execution_count": 16,
   "metadata": {},
   "outputs": [
    {
     "name": "stdout",
     "output_type": "stream",
     "text": [
      "Enter a number: 5\n",
      "The number is positive.\n"
     ]
    }
   ],
   "source": [
    "# Check if a number is positive or negative\n",
    "number = int(input(\"Enter a number: \"))\n",
    "if number > 0:\n",
    "    print(\"The number is positive.\")\n",
    "else:\n",
    "    print(\"The number is negative.\")"
   ]
  },
  {
   "cell_type": "code",
   "execution_count": 17,
   "metadata": {},
   "outputs": [
    {
     "name": "stdout",
     "output_type": "stream",
     "text": [
      "Enter a number: 4\n",
      "The number is even.\n"
     ]
    }
   ],
   "source": [
    "# Check if a number is even or odd\n",
    "number = int(input(\"Enter a number: \"))\n",
    "if number % 2 == 0:\n",
    "    print(\"The number is even.\")\n",
    "else:\n",
    "    print(\"The number is odd.\")"
   ]
  },
  {
   "cell_type": "code",
   "execution_count": 18,
   "metadata": {},
   "outputs": [
    {
     "name": "stdout",
     "output_type": "stream",
     "text": [
      "Enter your age: 3\n",
      "You are not eligible to vote.\n"
     ]
    }
   ],
   "source": [
    "# Check if a person is eligible to vote\n",
    "age = int(input(\"Enter your age: \"))\n",
    "if age >= 18:\n",
    "    print(\"You are eligible to vote.\")\n",
    "else:\n",
    "    print(\"You are not eligible to vote.\")"
   ]
  },
  {
   "cell_type": "code",
   "execution_count": 19,
   "metadata": {},
   "outputs": [
    {
     "name": "stdout",
     "output_type": "stream",
     "text": [
      "Enter the first angle: 60\n",
      "Enter the second angle: 30\n",
      "Enter the third angle: 90\n",
      "It is a valid triangle.\n"
     ]
    }
   ],
   "source": [
    "# Check if a triangle is valid based on angles\n",
    "angle1 = int(input(\"Enter the first angle: \"))\n",
    "angle2 = int(input(\"Enter the second angle: \"))\n",
    "angle3 = int(input(\"Enter the third angle: \"))\n",
    "if angle1 + angle2 + angle3 == 180:\n",
    "    print(\"It is a valid triangle.\")\n",
    "else:\n",
    "    print(\"It is not a valid triangle.\")"
   ]
  },
  {
   "cell_type": "code",
   "execution_count": 20,
   "metadata": {},
   "outputs": [
    {
     "name": "stdout",
     "output_type": "stream",
     "text": [
      "Enter a number: 21\n",
      "The number is divisible by both 3 and 7.\n"
     ]
    }
   ],
   "source": [
    "# Check if a number is divisible by 3 and 7\n",
    "number = int(input(\"Enter a number: \"))\n",
    "if number % 3 == 0 and number % 7 == 0:\n",
    "    print(\"The number is divisible by both 3 and 7.\")\n",
    "else:\n",
    "    print(\"The number is not divisible by both 3 and 7.\")"
   ]
  },
  {
   "cell_type": "code",
   "execution_count": 21,
   "metadata": {},
   "outputs": [
    {
     "name": "stdout",
     "output_type": "stream",
     "text": [
      "Enter the first number: 2\n",
      "Enter the second number: 3\n",
      "3 is the largest.\n"
     ]
    }
   ],
   "source": [
    "# Find the largest of two numbers\n",
    "num1 = int(input(\"Enter the first number: \"))\n",
    "num2 = int(input(\"Enter the second number: \"))\n",
    "if num1 > num2:\n",
    "    print(num1, \"is the largest.\")\n",
    "else:\n",
    "    print(num2, \"is the largest.\")"
   ]
  },
  {
   "cell_type": "code",
   "execution_count": 22,
   "metadata": {},
   "outputs": [
    {
     "name": "stdout",
     "output_type": "stream",
     "text": [
      "Enter the first number: 2\n",
      "Enter the second number: 4\n",
      "Enter the third number: 3\n",
      "4 is the largest.\n"
     ]
    }
   ],
   "source": [
    "# Find the largest of three numbers\n",
    "num1 = int(input(\"Enter the first number: \"))\n",
    "num2 = int(input(\"Enter the second number: \"))\n",
    "num3 = int(input(\"Enter the third number: \"))\n",
    "if num1 > num2 and num1 > num3:\n",
    "    print(num1, \"is the largest.\")\n",
    "elif num2 > num3:\n",
    "    print(num2, \"is the largest.\")\n",
    "else:\n",
    "    print(num3, \"is the largest.\")"
   ]
  },
  {
   "cell_type": "code",
   "execution_count": 23,
   "metadata": {},
   "outputs": [
    {
     "name": "stdout",
     "output_type": "stream",
     "text": [
      "Enter your marks: 56\n",
      "Grade: D\n"
     ]
    }
   ],
   "source": [
    "# Determine the grade based on marks\n",
    "marks = int(input(\"Enter your marks: \"))\n",
    "if marks >= 90:\n",
    "    print(\"Grade: A\")\n",
    "elif marks >= 75:\n",
    "    print(\"Grade: B\")\n",
    "elif marks >= 60:\n",
    "    print(\"Grade: C\")\n",
    "elif marks >= 40:\n",
    "    print(\"Grade: D\")\n",
    "else:\n",
    "    print(\"Grade: F\")"
   ]
  },
  {
   "cell_type": "code",
   "execution_count": 24,
   "metadata": {},
   "outputs": [
    {
     "name": "stdout",
     "output_type": "stream",
     "text": [
      "Enter your age: 34\n",
      "You are an Adult.\n"
     ]
    }
   ],
   "source": [
    "# Determine the age category\n",
    "age = int(input(\"Enter your age: \"))\n",
    "if age < 0:\n",
    "    print(\"Invalid age.\")\n",
    "elif age < 13:\n",
    "    print(\"You are a Child.\")\n",
    "elif age < 20:\n",
    "    print(\"You are a Teenager.\")\n",
    "elif age < 65:\n",
    "    print(\"You are an Adult.\")\n",
    "else:\n",
    "    print(\"You are a Senior Citizen.\")"
   ]
  },
  {
   "cell_type": "code",
   "execution_count": 25,
   "metadata": {},
   "outputs": [
    {
     "name": "stdout",
     "output_type": "stream",
     "text": [
      "Enter a year: 2024\n",
      "It is a leap year.\n",
      "It is not a century year.\n"
     ]
    }
   ],
   "source": [
    "# Check if a year is a leap year and also century year\n",
    "year = int(input(\"Enter a year: \"))\n",
    "if (year % 4 == 0 and year % 100 != 0) or (year % 400 == 0):\n",
    "    print(\"It is a leap year.\")\n",
    "    if year % 100 == 0:\n",
    "        print(\"It is also a century year.\")\n",
    "    else:\n",
    "        print(\"It is not a century year.\")\n",
    "else:\n",
    "    print(\"It is not a leap year.\")"
   ]
  },
  {
   "cell_type": "code",
   "execution_count": 26,
   "metadata": {},
   "outputs": [
    {
     "name": "stdout",
     "output_type": "stream",
     "text": [
      "Enter the first angle: 60\n",
      "Enter the second angle: 30\n",
      "Enter the third angle: 90\n",
      "It is a valid triangle.\n",
      "It is a Right triangle.\n"
     ]
    }
   ],
   "source": [
    "# Determine the type of triangle based on angles\n",
    "angle1 = int(input(\"Enter the first angle: \"))\n",
    "angle2 = int(input(\"Enter the second angle: \"))\n",
    "angle3 = int(input(\"Enter the third angle: \"))\n",
    "if angle1 + angle2 + angle3 == 180:\n",
    "    print(\"It is a valid triangle.\")\n",
    "    if angle1 < 90 and angle2 < 90 and angle3 < 90:\n",
    "        print(\"It is an Acute triangle.\")\n",
    "    elif angle1 == 90 or angle2 == 90 or angle3 == 90:\n",
    "        print(\"It is a Right triangle.\")\n",
    "    else:\n",
    "        print(\"It is an Obtuse triangle.\")\n",
    "else:\n",
    "    print(\"It is not a valid triangle.\")"
   ]
  },
  {
   "cell_type": "code",
   "execution_count": null,
   "metadata": {},
   "outputs": [],
   "source": []
  }
 ],
 "metadata": {
  "kernelspec": {
   "display_name": "Python 3",
   "language": "python",
   "name": "python3"
  },
  "language_info": {
   "codemirror_mode": {
    "name": "ipython",
    "version": 3
   },
   "file_extension": ".py",
   "mimetype": "text/x-python",
   "name": "python",
   "nbconvert_exporter": "python",
   "pygments_lexer": "ipython3",
   "version": "3.8.5"
  }
 },
 "nbformat": 4,
 "nbformat_minor": 4
}
